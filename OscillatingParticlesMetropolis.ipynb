{
 "cells": [
  {
   "cell_type": "markdown",
   "metadata": {},
   "source": [
    "# Handout Problem 2"
   ]
  },
  {
   "cell_type": "markdown",
   "metadata": {},
   "source": [
    "## Task 1\n",
    "\n",
    "### (a) Sections in Maple Code\n",
    "\n",
    "#### Initialisation\n",
    "\n",
    "    N = 20000 # number of samples\n",
    "    deltax = 0.15 # max displacement nm\n",
    "    nm = 10^(-9) # nanometres\n",
    "    kf = 1.381*10^(-23) # Boltzmann const J m-2 K-1\n",
    "    T = 300.0 # temperature K\n",
    "    kT = k*T # initial thermal energy\n",
    "    kf = 10.0 # force const N m-1\n",
    "    V(x)-> kf*x^2*nm^2/2 # def function pot'l energy kg m2 s–2\n",
    "    Etot = 0.0 # initial energy <E>\n",
    "    E2tot = 0.0 # initial <E2\n",
    "\n",
    "#### Monte Carlo Loop\n",
    "\n",
    "    x1 = 0.0 # first guess of x in nm\n",
    "    E1 = V(x1) # first guess of energy\n",
    "    for i from 1 to N do # start loop step (2)\n",
    "        x2 = x1 + rand()deltax # new x position\n",
    "        E2 = V(x2) # new PE\n",
    "        DeltaE = E2 - E1 # energy difference,next line is Metropolis samplin\n",
    "        if DeltaE <= 0.0 then\n",
    "            x1 = x2 # save new configuration\n",
    "            E1 = E2 # save new energy\n",
    "        else if DeltaE > 0.0 then\n",
    "            if exp(-DeltaE/kT) > rand() then\n",
    "                x1 = x2 # save new configuration\n",
    "                E1 = E2 # save new energy\n",
    "            end if\n",
    "        end if\n",
    "\n",
    "#### Data Calculation\n",
    "\n",
    "        Etot = E1 # always add to total <E>\n",
    "        E2tot = E2tot + E1^2 # add to total <E2>\n",
    "    end do # end loop step (3)\n",
    "    \n",
    "#### Analysis\n",
    "    \n",
    "    Eav = (Etot) # <E>\n",
    "    E2av = (E2tot/N) # <E2>\n",
    "    CV = (E2av-Eav^2)/(k*T^2)\n",
    "    "
   ]
  },
  {
   "cell_type": "markdown",
   "metadata": {},
   "source": [
    "### (b) Errors in Code\n",
    "\n",
    "1. k_f is defined twice in the initialisation section. k_f and k_b need to be defined separately\n",
    "2. x2 is only positive and shuld be between -1 and +1\n",
    "3. Code doesn't add to Etot, but just changes it every time to E1\n",
    "4. Doesn't divide Etot by N to find the average energy \n"
   ]
  },
  {
   "cell_type": "markdown",
   "metadata": {},
   "source": [
    "### (c) Average E, average square E and heat capacity"
   ]
  },
  {
   "cell_type": "code",
   "execution_count": 15,
   "metadata": {
    "collapsed": false
   },
   "outputs": [
    {
     "name": "stdout",
     "output_type": "stream",
     "text": [
      "The average energy is 2.074580649402762e-21J\n",
      "The average square energy is 1.2537693766045597e-41J\n",
      "The heat capacity is 6.624675271678503e-24J/kg\n"
     ]
    }
   ],
   "source": [
    "import numpy as np\n",
    "import scipy.integrate as integrate\n",
    "\n",
    "def V(x, kf): # def function pot'l energy kg m2 s–2\n",
    "    return (kf*x**2)/2\n",
    "\n",
    "N = 20000 # number of samples\n",
    "nm = 10**(-9) # nanometres\n",
    "deltax = 0.15*nm # max displacement nm\n",
    "k = 1.381*10**(-23) # Boltzmann const J m-2 K-1\n",
    "T = 300.0 # temperature K\n",
    "kT = k*T # initial thermal energy\n",
    "kf = 10.0 # force const N m-1\n",
    "Etot = 0.0 # initial energy <E>\n",
    "E2tot = 0.0 # initial <E2>\n",
    "x1 = 0.0 # first guess of x in nm\n",
    "E1 = V(x1, kf) # first guess of energy\n",
    "Xtot = 0 #initialise Xtot\n",
    "X2tot = 0 #initialise X2tot\n",
    "\n",
    "for i in range(N): # start loop step (2)\n",
    "    x2 = abs(x1 + (2*np.random.rand()-1)*deltax) # new x position\n",
    "    E2 = V(x2, kf) # new PE\n",
    "    DeltaE = E2 - E1 # energy difference\n",
    "# next line is Metropolis sampling\n",
    "    if DeltaE <= 0.0:\n",
    "        x1 = x2 # save new configuration\n",
    "        E1 = E2 # save new energy\n",
    "    elif DeltaE > 0.0:   \n",
    "        if np.exp(-DeltaE/kT) > np.random.rand():\n",
    "            x1 = x2 # save new configuration\n",
    "            E1 = E2 # save new energy\n",
    "        else:\n",
    "            pass\n",
    "\n",
    "    Etot += E1 # always add to total <E>\n",
    "    E2tot = E2tot + E1**2 # add to total <E2>\n",
    "    \n",
    "# average step\n",
    "Eav = (Etot/N) # <E>\n",
    "E2av = (E2tot/N) # <E2>\n",
    "CV = (E2av-Eav**2)/(k*T**2)\n",
    "\n",
    "print('The average energy is ' + str(Eav) +'J')\n",
    "print('The average square energy is ' + str(E2av) +'J')\n",
    "print('The heat capacity is ' + str(CV) + 'J/kg')\n"
   ]
  },
  {
   "cell_type": "markdown",
   "metadata": {},
   "source": [
    "### (d) Check result using numerical integration"
   ]
  },
  {
   "cell_type": "code",
   "execution_count": null,
   "metadata": {
    "collapsed": true
   },
   "outputs": [],
   "source": [
    "def integrand1(x,V, T, kf):\n",
    "    return V(x,kf)*np.exp(-V(x,kf)/(k*T))\n",
    "\n",
    "def integrand2(x,V, T, kf):\n",
    "    return np.exp(-V(x,kf)/(k*T))\n",
    "\n",
    "TopIntegral = integrate.quad(integrand1, 0, 10**-9, args=(V, T, kf))\n",
    "BotIntegral = integrate.quad(integrand2, 0, 10**-9, args=(V, T, kf))\n",
    "\n",
    "print(TopIntegral)\n",
    "print(BotIntegral)\n",
    "\n",
    "AvgV = TopIntegral[0]/BotIntegral[0]\n",
    "print('The average potential energy is ' + str(AvgV) + 'J')"
   ]
  },
  {
   "cell_type": "markdown",
   "metadata": {},
   "source": [
    "## Task 2\n",
    "\n",
    "### (a) Typical value for avg. X and avg. X^2"
   ]
  },
  {
   "cell_type": "code",
   "execution_count": 17,
   "metadata": {
    "collapsed": false
   },
   "outputs": [
    {
     "name": "stdout",
     "output_type": "stream",
     "text": [
      "The average displacement is 1.6242890624131716e-11m\n",
      "The average square displacement is 4.120887011590296e-22m^2\n"
     ]
    }
   ],
   "source": [
    "import numpy as np\n",
    "import scipy.integrate as integrate\n",
    "\n",
    "def V(x, kf): # def function pot'l energy kg m2 s–2\n",
    "    return (kf*x**2)/2\n",
    "\n",
    "N = 20000 # number of samples\n",
    "nm = 10**(-9) # nanometres\n",
    "deltax = 0.15*nm # max displacement nm\n",
    "k = 1.381*10**(-23) # Boltzmann const J m-2 K-1\n",
    "T = 300.0 # temperature K\n",
    "kT = k*T # initial thermal energy\n",
    "kf = 10.0 # force const N m-1\n",
    "Etot = 0.0 # initial energy <E>\n",
    "E2tot = 0.0 # initial <E2>\n",
    "x1 = 0.0 # first guess of x in nm\n",
    "E1 = V(x1, kf) # first guess of energy\n",
    "Xtot = 0 #initialise Xtot\n",
    "X2tot = 0 #initialise X2tot\n",
    "\n",
    "for i in range(N): # start loop step (2)\n",
    "    x2 = abs(x1 + (2*np.random.rand()-1)*deltax) # new x position\n",
    "    E2 = V(x2, kf) # new PE\n",
    "    DeltaE = E2 - E1 # energy difference\n",
    "# next line is Metropolis sampling\n",
    "    if DeltaE <= 0.0:\n",
    "        x1 = x2 # save new configuration\n",
    "        E1 = E2 # save new energy\n",
    "    elif DeltaE > 0.0:   \n",
    "        if np.exp(-DeltaE/kT) > np.random.rand():\n",
    "            x1 = x2 # save new configuration\n",
    "            E1 = E2 # save new energy\n",
    "        else:\n",
    "            pass\n",
    "\n",
    "    Etot += E1 # always add to total <E>\n",
    "    E2tot = E2tot + E1**2 # add to total <E2>\n",
    "    \n",
    "    Xtot = Xtot + x1\n",
    "    X2tot = X2tot + x1**2\n",
    "    \n",
    "avgX = Xtot/N\n",
    "avgX2 = X2tot/N\n",
    "\n",
    "print('The average displacement is ' + str(avgX) + 'm')\n",
    "print('The average square displacement is ' + str(avgX2) + 'm^2')"
   ]
  },
  {
   "cell_type": "markdown",
   "metadata": {},
   "source": [
    "Above values look comparable to what is expected "
   ]
  },
  {
   "cell_type": "markdown",
   "metadata": {},
   "source": [
    "## Task 3\n",
    "\n",
    "### Why does the  Metropolis Monte Carlo Method work? Why and how are only important contributions to the statistical average obtained?\n",
    "\n",
    "The Metropolis Monte Carlo method is a 'random walk' through different configurations of a system. One must pick a 'trial configuration' and calculate the probability ratio of the system being in that configuration compared to the initial configuration. This is then compared to a random number between 0 and 1 and the initial configuration is replaced by the trial configuration if the probability ratio is  more then the random number.\n",
    "\n",
    "That is, the more likely that the system is in the trial configuration, the more likely it is that it will get added to the ensemeble of configurations. Repeating this for a sufficiently large sample set of trial configurations makes the process more accurate."
   ]
  },
  {
   "cell_type": "markdown",
   "metadata": {},
   "source": [
    "## Task 4\n",
    "\n",
    "### Find the fractional error per oscillator and generate a corresponding plot\n"
   ]
  },
  {
   "cell_type": "code",
   "execution_count": null,
   "metadata": {
    "collapsed": true
   },
   "outputs": [],
   "source": [
    "def V(x, kf): # def function pot'l energy kg m2 s–2\n",
    "    return (kf*x**2)/2\n",
    "\n",
    "N = 10 # number of samples\n",
    "nm = 10**(-9) # nanometres\n",
    "deltax = 0.15*nm # max displacement nm\n",
    "k = 1.381*10**(-23) # Boltzmann const J m-2 K-1\n",
    "T = 300.0 # temperature K\n",
    "kT = k*T # initial thermal energy\n",
    "kf = 10.0 # force const N m-1\n",
    "Etot = 0.0 # initial energy <E>\n",
    "E2tot = 0.0 # initial <E2>\n",
    "x1 = 0.0 # first guess of x in nm\n",
    "E1 = V(x1, kf) # first guess of energy\n",
    "Xtot = 0 #initialise Xtot\n",
    "X2tot = 0 #initialise X2tot\n",
    "\n",
    "for i in range(N): # start loop step (2)\n",
    "    x2 = abs(x1 + (2*np.random.rand()-1)*deltax) # new x position\n",
    "    E2 = V(x2, kf) # new PE\n",
    "    DeltaE = E2 - E1 # energy difference\n",
    "# next line is Metropolis sampling\n",
    "    if DeltaE <= 0.0:\n",
    "        x1 = x2 # save new configuration\n",
    "        E1 = E2 # save new energy\n",
    "    elif DeltaE > 0.0:   \n",
    "        if np.exp(-DeltaE/kT) > np.random.rand():\n",
    "            x1 = x2 # save new configuration\n",
    "            E1 = E2 # save new energy\n",
    "        else:\n",
    "            pass\n",
    "\n",
    "    Etot += E1 # always add to total <E>\n",
    "    E2tot = E2tot + E1**2 # add to total <E2>\n",
    "    \n",
    "\n",
    "Eav = (Etot/N) # <E>\n",
    "E2av = (E2tot/N) # <E2>\n",
    "CV = (E2av-Eav**2)/(k*T**2)\n",
    "\n",
    "sigma = (E2av - (Eav)**2)**1/2\n",
    "print(sigma)\n",
    "\n",
    "fracError = (k*(T**2)*CV)/Eav\n",
    "print(fracError)\n",
    "\n",
    "##NOT SURE!"
   ]
  },
  {
   "cell_type": "markdown",
   "metadata": {},
   "source": [
    "Self assessment\n",
    "Task 1: 4/4 Completed all the parts and all values look comparable to expected values\n",
    "Task 2: 1/1 Found average displacements and they seem to be comparable to expected\n",
    "Task 3: 1/1 I think I explain it will\n",
    "Task 4: 0/1 n/a\n",
    "Task 5: 2/2 Coding is neat and tidy and I included strings in the answers and included units\n",
    "Task 6: 0/1"
   ]
  }
 ],
 "metadata": {
  "kernelspec": {
   "display_name": "Python 3",
   "language": "python",
   "name": "python3"
  },
  "language_info": {
   "codemirror_mode": {
    "name": "ipython",
    "version": 3
   },
   "file_extension": ".py",
   "mimetype": "text/x-python",
   "name": "python",
   "nbconvert_exporter": "python",
   "pygments_lexer": "ipython3",
   "version": "3.6.0"
  }
 },
 "nbformat": 4,
 "nbformat_minor": 2
}
